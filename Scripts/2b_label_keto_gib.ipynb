{
 "cells": [
  {
   "cell_type": "code",
   "execution_count": 1,
   "metadata": {},
   "outputs": [],
   "source": [
    "import pandas as pd\n",
    "import numpy as np\n",
    "import datetime as dt"
   ]
  },
  {
   "cell_type": "code",
   "execution_count": 4,
   "metadata": {},
   "outputs": [],
   "source": [
    "geneesmiddelen = pd.read_csv('..\\Datasets\\metadata.csv', sep='|')\n",
    "hulpstoffen = pd.read_csv('..\\Datasets\\keto_hulpstoffen_GIB_uniek_20220712.csv', sep='\\t', encoding='latin')"
   ]
  },
  {
   "cell_type": "code",
   "execution_count": 5,
   "metadata": {},
   "outputs": [],
   "source": [
    "yes = hulpstoffen[hulpstoffen.Keto == 'J']['hulpstof'].to_list()\n",
    "possible = hulpstoffen[hulpstoffen.Keto == 'M']['hulpstof'].to_list()\n",
    "no = hulpstoffen[hulpstoffen.Keto == 'N']['hulpstof'].to_list()\n",
    "unknown = hulpstoffen[hulpstoffen.Keto == '?']['hulpstof'].to_list()"
   ]
  },
  {
   "cell_type": "code",
   "execution_count": 6,
   "metadata": {},
   "outputs": [],
   "source": [
    "'''Volgorde labeling: N > M > ? > J. Anders wordt er onterecht overgeschreven'''\n",
    "\n",
    "def prep(value):\n",
    "    out=[]\n",
    "    for i in str(value).split('#'):\n",
    "        str(i).strip()\n",
    "        out.append(i)\n",
    "    return out\n",
    "\n",
    "## LABELEN ##\n",
    "\n",
    "try:\n",
    "    #geneesmiddelen['gluten'] = geneesmiddelen['HULPSTOFFEN'].apply(lambda x: 'J' if any(str(hulpstof) in str(x) for hulpstof in yes) else ('M' if any(str(hulpstof) in str(x) for hulpstof in possible) else ('N' if any(str(hulpstof) in str(x) for hulpstof in no) else None)))\n",
    "    geneesmiddelen['keto'] = geneesmiddelen['HULPSTOFFEN'].apply(lambda x: 'N' if any(str(hulpstof) in prep(x) for hulpstof in no) \n",
    "    else ('M' if any(str(hulpstof) in prep(x) for hulpstof in possible) \n",
    "    else ('?' if any(str(hulpstof) in prep(x) for hulpstof in unknown) \n",
    "    else ('J' if any(str(hulpstof) in prep(x) for hulpstof in yes) else None))))\n",
    "\n",
    "except Exception as err:\n",
    "    print(err)\n"
   ]
  },
  {
   "cell_type": "code",
   "execution_count": 8,
   "metadata": {},
   "outputs": [],
   "source": [
    "today = dt.datetime.today().strftime('%Y%m%d')\n",
    "name = '..\\Datasets\\geneesmiddelen_keto_labeled_%s.csv'  %(today)\n",
    "\n",
    "geneesmiddelen.to_csv(name, sep=';', encoding='utf-8' )"
   ]
  },
  {
   "cell_type": "code",
   "execution_count": 9,
   "metadata": {},
   "outputs": [
    {
     "data": {
      "text/plain": [
       "19276"
      ]
     },
     "execution_count": 9,
     "metadata": {},
     "output_type": "execute_result"
    }
   ],
   "source": [
    "import pandas as pd\n",
    "from sqlalchemy import create_engine\n",
    "\n",
    "# Credentials to database connection\n",
    "hostname=\"185.224.137.5\"\n",
    "dbname=\"u219831890_ketomed\"\n",
    "uname=\"u219831890_ketobeheer\"\n",
    "pwd=\"Admin_admin1\"\n",
    "\n",
    "# Create SQLAlchemy engine to connect to MySQL Database\n",
    "engine = create_engine(\"mysql+pymysql://{user}:{pw}@{host}/{db}\"\n",
    "\t\t\t\t.format(host=hostname, db=dbname, user=uname, pw=pwd))\n",
    "\n",
    "# Convert dataframe to sql table  \n",
    "sql_db_name = 'cbg_labeled_%s' %(today)                                 \n",
    "geneesmiddelen.to_sql(sql_db_name, engine, index=False)\n"
   ]
  }
 ],
 "metadata": {
  "kernelspec": {
   "display_name": "Python 3.10.4 64-bit",
   "language": "python",
   "name": "python3"
  },
  "language_info": {
   "codemirror_mode": {
    "name": "ipython",
    "version": 3
   },
   "file_extension": ".py",
   "mimetype": "text/x-python",
   "name": "python",
   "nbconvert_exporter": "python",
   "pygments_lexer": "ipython3",
   "version": "3.10.4"
  },
  "orig_nbformat": 4,
  "vscode": {
   "interpreter": {
    "hash": "afcdc7d8ab493c3455793d98696bf1865abe8e3c4494e2e193b977207db4fd78"
   }
  }
 },
 "nbformat": 4,
 "nbformat_minor": 2
}
