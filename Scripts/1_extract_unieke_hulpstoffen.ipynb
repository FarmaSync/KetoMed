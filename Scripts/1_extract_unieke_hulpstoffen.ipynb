{
 "cells": [
  {
   "cell_type": "code",
   "execution_count": 1,
   "metadata": {},
   "outputs": [],
   "source": [
    "import pandas as pd\n",
    "import numpy as np\n",
    "import datetime as dt"
   ]
  },
  {
   "cell_type": "code",
   "execution_count": 2,
   "metadata": {},
   "outputs": [],
   "source": [
    "metadata = pd.read_csv('metadata.csv', sep='|')"
   ]
  },
  {
   "cell_type": "code",
   "execution_count": 3,
   "metadata": {},
   "outputs": [],
   "source": [
    "unique_values = metadata.HULPSTOFFEN.unique()"
   ]
  },
  {
   "cell_type": "code",
   "execution_count": 4,
   "metadata": {},
   "outputs": [
    {
     "name": "stdout",
     "output_type": "stream",
     "text": [
      "nan\n",
      "'float' object has no attribute 'split'\n"
     ]
    }
   ],
   "source": [
    "hulpstoffen_raw = []\n",
    "\n",
    "for value in unique_values:\n",
    "    try:\n",
    "        for sub_value in value.split('#'):\n",
    "            hulpstoffen_raw.append(sub_value.strip())\n",
    "    except AttributeError as err:\n",
    "        print(value)\n",
    "        print(err)\n",
    "\n",
    "hulpstoffen_unique = np.unique(np.asarray(hulpstoffen_raw))"
   ]
  },
  {
   "cell_type": "code",
   "execution_count": 13,
   "metadata": {},
   "outputs": [],
   "source": [
    "today = dt.datetime.today().strftime('%Y%m%d')\n",
    "name = 'hulpstoffen_GIB_uniek_%s.csv' %(today)\n",
    "\n",
    "pd.DataFrame(hulpstoffen_unique, columns=['hulpstof']).to_csv(name, sep=';', index=False)"
   ]
  }
 ],
 "metadata": {
  "kernelspec": {
   "display_name": "Python 3.9.5 64-bit",
   "language": "python",
   "name": "python3"
  },
  "language_info": {
   "codemirror_mode": {
    "name": "ipython",
    "version": 3
   },
   "file_extension": ".py",
   "mimetype": "text/x-python",
   "name": "python",
   "nbconvert_exporter": "python",
   "pygments_lexer": "ipython3",
   "version": "3.9.5"
  },
  "orig_nbformat": 4,
  "vscode": {
   "interpreter": {
    "hash": "278ca3f2c7af101ff282712f03902a74c197276d02610ed4b19cde00d124f44e"
   }
  }
 },
 "nbformat": 4,
 "nbformat_minor": 2
}
